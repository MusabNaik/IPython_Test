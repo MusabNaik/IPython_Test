{
 "cells": [
  {
   "cell_type": "code",
   "execution_count": 1,
   "metadata": {},
   "outputs": [
    {
     "name": "stdout",
     "output_type": "stream",
     "text": [
      "Time taken: 0.046875\n",
      "[1, 73.0, 122.0, 181.0, 234.0, 277.0, 332.0, 387.0, 432.0, 512.0]\n"
     ]
    },
    {
     "data": {
      "text/plain": [
       "<Figure size 1200x600 with 1 Axes>"
      ]
     },
     "metadata": {},
     "output_type": "display_data"
    }
   ],
   "source": [
    "import matplotlib.pyplot as plt\n",
    "import numpy as np\n",
    "import pandas as pd\n",
    "import time\n",
    "import os\n",
    "\n",
    "\n",
    "folder =\"C:\\\\Musab\\\\DSS_CODE\\\\different\\\\\"\n",
    "file = '2_9_t8.csv'\n",
    "file_data = pd.read_csv(folder+file)\n",
    "F = file_data['data']+file_data['noise']\n",
    "\n",
    "fname=os.path.splitext(file)[0].split('_')\n",
    "k=int(fname[2].split('t')[1])\n",
    "\n",
    "title=(\"BetweenClass_nlogn, {}^{} elements, {} thresholds\".format(fname[0],fname[1],fname[2]))\n",
    "\n",
    "'''\n",
    "F = [1,2,3,2,1,2,3,2,1,2,3,2,1,2,3,2,1,2,3,2,1]\n",
    "k = 4\n",
    "'''\n",
    "\n",
    "def C_SUM (array):\n",
    "    PC_SUM = []\n",
    "    PC_SUM.append(array[0])\n",
    "    for i in range (1,len(array)):\n",
    "        PC_SUM.append((PC_SUM[-1]+array[i]))\n",
    "    return PC_SUM\n",
    "\n",
    "def between_sum(i,j,array):\n",
    "    if i == 1:\n",
    "        return (array[j-1])\n",
    "    else:\n",
    "        return (array[j-1]-array[i-2])\n",
    "    \n",
    "def V_BC (l,r,cp,cip):\n",
    "    P_SUM = between_sum(l,r,cp)\n",
    "    iP_SUM = between_sum(l,r,cip)\n",
    "   \n",
    "    try:\n",
    "        return (P_SUM*(iP_SUM/P_SUM)**2)\n",
    "    except:\n",
    "        return (0)\n",
    "    \n",
    "def DIVCONQ(MAT,start,j,PM):\n",
    "    m,n = MAT.shape\n",
    "    rowP = int(m/2)-1\n",
    "    if(rowP<0):\n",
    "        rowP=0\n",
    "    \n",
    "    rowMaxIndex = 0\n",
    "    rowMax=0\n",
    "    end=rowP+start\n",
    "    \n",
    "    if(end>n):\n",
    "        end=n\n",
    "    if(end>rowP+start-PM):\n",
    "        end=rowP+start-PM\n",
    "        \n",
    "    sid=0\n",
    "    for i in range (0,end):\n",
    "        vBC = C[i+minTj[j-1]+1+PM][j] + V_BC(i+minTj[j]+1+PM,rowP+minTj[j]+start,CP,CiP)\n",
    "\n",
    "        if vBC > rowMax:\n",
    "            rowMax=vBC\n",
    "            rowMaxIndex = i\n",
    "            sid = i+minTj[j-1]+1+PM\n",
    "            \n",
    "        MAT[rowP,i]=vBC\n",
    "        \n",
    "    D[rowP+start+j-1][j] = sid\n",
    "    C[rowP+start+j][j+1] = rowMax\n",
    "    \n",
    "    if m == 1:\n",
    "        return\n",
    "    \n",
    "    else:\n",
    "        if int(m/2) != 1:\n",
    "            DIVCONQ(MAT[0:int(m/2)-1,0:rowMaxIndex+1],start,j,PM)\n",
    "        DIVCONQ(MAT[int(m/2):m,rowMaxIndex:n],start+int(m/2),j,rowMaxIndex+PM)\n",
    "        \n",
    "n = len(F)\n",
    "#k = 6\n",
    "H = list(range(1,n+1))\n",
    "P = list(map(lambda X: X/sum(F),F))\n",
    "i = range(1,len(P)+1)\n",
    "iP = list(map(lambda X,Y: X*Y,P,i))\n",
    "C = np.zeros((n+1,k+2))\n",
    "D = np.zeros((n+1,k+2))\n",
    "T = list(np.zeros(k+2))\n",
    "\n",
    "CP = C_SUM (P)\n",
    "CiP = C_SUM(iP)\n",
    "\n",
    "minTj = list(np.zeros(k+2))\n",
    "maxTj = list(np.zeros(k+2))\n",
    "\n",
    "for j in range(0,k+2):\n",
    "    if j == k+1:\n",
    "        minTj[j] = n\n",
    "    else:\n",
    "        minTj[j] = j\n",
    "\n",
    "for j in range(0,k+2):\n",
    "    if j == 0:\n",
    "        maxTj[j] = 0\n",
    "    else:\n",
    "        maxTj[j] = n-k+j-1\n",
    "        \n",
    "new_time_start = time.process_time()\n",
    "\n",
    "for j in range (0,k+1): \n",
    "    \n",
    "    if j == 0:\n",
    "        for tj in range(minTj[j+1],maxTj[j+1]+1):\n",
    "            C[tj][j+1]=V_BC(1,tj,CP,CiP)\n",
    "    \n",
    "    else: \n",
    "        sizeMAT = len(F)-k+1\n",
    "        MAT = np.zeros((sizeMAT,sizeMAT-1))\n",
    "        if (j != k):\n",
    "            DIVCONQ(MAT,0,j,0)\n",
    "            \n",
    "        else:\n",
    "            dl = minTj[k]\n",
    "            for l in range(minTj[k],maxTj[k]+1):\n",
    "                f = V_BC(l+1,minTj[k+1],CP,CiP)\n",
    "                v = f + C[l][k]\n",
    "                if (C[minTj[k+1]][k+1] < v ):\n",
    "                    C[minTj[k+1]][k+1] = v\n",
    "                    dl = l\n",
    "            D[maxTj[k]][k]=dl\n",
    "            \n",
    "D[n][k+1] = n\n",
    "print(\"Time taken:\",time.process_time()-new_time_start)\n",
    "\n",
    "T[0] = 1\n",
    "i = n+1\n",
    "for j in range(k+1,0,-1):\n",
    "    T[j] = D[i-1][j]\n",
    "    i = int(D[i-1][j])\n",
    "print(T)\n",
    "\n",
    "plt.figure(figsize=(12,6))\n",
    "plt.plot(H,F)\n",
    "plt.title(title,fontsize=18)\n",
    "plt.xlabel(T,fontsize=20)\n",
    "for i in range(1,k+1):\n",
    "    plt.plot([T[i],T[i]],[0, F.max()],linestyle='--',color='black',linewidth=1.5)\n",
    "plt.show()\n"
   ]
  },
  {
   "cell_type": "code",
   "execution_count": 2,
   "metadata": {},
   "outputs": [
    {
     "data": {
      "text/plain": [
       "8"
      ]
     },
     "execution_count": 2,
     "metadata": {},
     "output_type": "execute_result"
    }
   ],
   "source": [
    "k"
   ]
  },
  {
   "cell_type": "code",
   "execution_count": 3,
   "metadata": {
    "scrolled": false
   },
   "outputs": [
    {
     "data": {
      "text/plain": [
       "(513, 10)"
      ]
     },
     "execution_count": 3,
     "metadata": {},
     "output_type": "execute_result"
    }
   ],
   "source": [
    "D.shape"
   ]
  },
  {
   "cell_type": "code",
   "execution_count": 6,
   "metadata": {},
   "outputs": [
    {
     "data": {
      "text/plain": [
       "array([[    0.  ,     0.  ,     0.  , ...,     0.  ,     0.  ,     0.  ],\n",
       "       [    0.  ,     0.  ,     0.  , ...,     0.  ,     0.  ,     0.  ],\n",
       "       [    0.  ,     0.  ,     0.  , ...,     0.  ,     0.  ,     0.  ],\n",
       "       ...,\n",
       "       [    0.  ,     0.  ,     0.  , ..., 81612.18, 81693.92,     0.  ],\n",
       "       [    0.  ,     0.  ,     0.  , ...,     0.  , 81706.34,     0.  ],\n",
       "       [    0.  ,     0.  ,     0.  , ...,     0.  ,     0.  , 81776.46]])"
      ]
     },
     "execution_count": 6,
     "metadata": {},
     "output_type": "execute_result"
    }
   ],
   "source": [
    "C"
   ]
  },
  {
   "cell_type": "code",
   "execution_count": 7,
   "metadata": {},
   "outputs": [
    {
     "data": {
      "text/plain": [
       "array([[  0.,   0.,   0., ...,   0.,   0.,   0.],\n",
       "       [  0.,   1.,   0., ...,   0.,   0.,   0.],\n",
       "       [  0.,   2.,   2., ...,   0.,   0.,   0.],\n",
       "       ...,\n",
       "       [  0.,   0.,   0., ..., 430.,   0.,   0.],\n",
       "       [  0.,   0.,   0., ...,   0., 432.,   0.],\n",
       "       [  0.,   0.,   0., ...,   0.,   0., 512.]])"
      ]
     },
     "execution_count": 7,
     "metadata": {},
     "output_type": "execute_result"
    }
   ],
   "source": [
    "D"
   ]
  },
  {
   "cell_type": "code",
   "execution_count": 1,
   "metadata": {},
   "outputs": [],
   "source": [
    "%matplotlib inline"
   ]
  },
  {
   "cell_type": "code",
   "execution_count": 5,
   "metadata": {},
   "outputs": [],
   "source": [
    "np.set_printoptions(precision=2,suppress=True)"
   ]
  },
  {
   "cell_type": "code",
   "execution_count": null,
   "metadata": {},
   "outputs": [],
   "source": []
  }
 ],
 "metadata": {
  "kernelspec": {
   "display_name": "Python 3",
   "language": "python",
   "name": "python3"
  },
  "language_info": {
   "codemirror_mode": {
    "name": "ipython",
    "version": 3
   },
   "file_extension": ".py",
   "mimetype": "text/x-python",
   "name": "python",
   "nbconvert_exporter": "python",
   "pygments_lexer": "ipython3",
   "version": "3.6.7"
  },
  "varInspector": {
   "cols": {
    "lenName": 16,
    "lenType": 16,
    "lenVar": 40
   },
   "kernels_config": {
    "python": {
     "delete_cmd_postfix": "",
     "delete_cmd_prefix": "del ",
     "library": "var_list.py",
     "varRefreshCmd": "print(var_dic_list())"
    },
    "r": {
     "delete_cmd_postfix": ") ",
     "delete_cmd_prefix": "rm(",
     "library": "var_list.r",
     "varRefreshCmd": "cat(var_dic_list()) "
    }
   },
   "types_to_exclude": [
    "module",
    "function",
    "builtin_function_or_method",
    "instance",
    "_Feature"
   ],
   "window_display": false
  }
 },
 "nbformat": 4,
 "nbformat_minor": 2
}
